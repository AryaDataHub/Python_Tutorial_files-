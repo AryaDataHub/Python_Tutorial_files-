{
 "cells": [
  {
   "cell_type": "markdown",
   "id": "0602a880-150a-4250-a892-3a10e1478f37",
   "metadata": {},
   "source": [
    "![python logo](https://www.python.org/static/community_logos/python-logo-master-v3-TM.png)"
   ]
  },
  {
   "cell_type": "markdown",
   "id": "19ad215f-0780-4d37-974c-c40e682de66c",
   "metadata": {},
   "source": [
    "# **10 practice questions on File Handling**\n",
    "### **By Arya Bhushan**"
   ]
  },
  {
   "cell_type": "markdown",
   "id": "0ce2e714-02b8-459c-bde4-fa02857965cb",
   "metadata": {},
   "source": [
    "**Write and Read a File**\n",
    "   - Write a program to create a file named `sample.txt` and write the string `\"Hello, Python learners!\"` into it.\n",
    "   - Then, read the content from the file and print it to the console.\n"
   ]
  },
  {
   "cell_type": "code",
   "execution_count": 3,
   "id": "d50dcbc5-7885-4ae5-8da3-e17d22e770c2",
   "metadata": {},
   "outputs": [
    {
     "name": "stdout",
     "output_type": "stream",
     "text": [
      "Hello, Python learners!\n"
     ]
    }
   ],
   "source": [
    "f = open(\"sample.txt\",\"w\")\n",
    "f.write(\"Hello, Python learners!\")\n",
    "f.close()\n",
    "fi = open(\"sample.txt\",\"r\")\n",
    "content = fi.read()\n",
    "print(content)"
   ]
  },
  {
   "cell_type": "markdown",
   "id": "0bae127e-1a9c-42e2-b723-40c4d06c4911",
   "metadata": {},
   "source": [
    "**Count Words in a File**\n",
    "   - Write a program to count the number of words in a file. Use a file named `text.txt` containing any text of your choice."
   ]
  },
  {
   "cell_type": "code",
   "execution_count": 5,
   "id": "6267775a-f124-4deb-9a10-d43e6059bc4e",
   "metadata": {},
   "outputs": [
    {
     "name": "stdout",
     "output_type": "stream",
     "text": [
      "Hello! \n",
      "Welcome to this python session. \n",
      "Thank you.\n",
      "Number of word in the file:  8\n"
     ]
    }
   ],
   "source": [
    "f1 = open(\"text.txt\",\"w\")\n",
    "f1.write(\"Hello! \\nWelcome to this python session. \\nThank you.\")\n",
    "f1.close()\n",
    "f1 = open(\"text.txt\",\"r\")\n",
    "content1 = f1.read()\n",
    "f1.close()\n",
    "print(content1)\n",
    "word_count = len(content1.split())\n",
    "print(\"Number of word in the file: \", word_count)"
   ]
  },
  {
   "cell_type": "markdown",
   "id": "78ff8ace-e95d-4bb4-bba2-bf064a63d372",
   "metadata": {},
   "source": [
    "**Copy File Content**\n",
    "   - Write a program to copy the content of one file (`source.txt`) into another file (`destination.txt`)."
   ]
  },
  {
   "cell_type": "code",
   "execution_count": 7,
   "id": "97f1fbc8-8951-4919-bb43-265f7f09e76d",
   "metadata": {},
   "outputs": [
    {
     "name": "stdout",
     "output_type": "stream",
     "text": [
      "Content in source file:  Hello!\n",
      "Welcome to India.\n",
      "Thank you.\n",
      "Content in destinaion file:  Hello!\n",
      "Welcome to India.\n",
      "Thank you.\n"
     ]
    }
   ],
   "source": [
    "f2 = open(\"source.txt\",\"w\")\n",
    "f2.write(\"Hello!\\nWelcome to India.\\nThank you.\")\n",
    "f2.close()\n",
    "f2 = open(\"source.txt\",\"r\")\n",
    "content2 = f2.read()\n",
    "f2.close()\n",
    "print(\"Content in source file: \", content2)\n",
    "f3 = open(\"destination.txt\",\"w\")  \n",
    "f3.write(content2)\n",
    "f3.close()\n",
    "f3 = open(\"destination.txt\",\"r\")\n",
    "content3 = f3.read()\n",
    "print(\"Content in destinaion file: \",content3)"
   ]
  },
  {
   "cell_type": "markdown",
   "id": "36949d49-3b51-4320-b249-4a5134747d43",
   "metadata": {},
   "source": [
    "**Find and Replace in a File**\n",
    "   - Write a program that searches for a word in a file and replaces it with another word. Ask the user for:\n",
    "     - The word to search for.\n",
    "     - The word to replace it with."
   ]
  },
  {
   "cell_type": "code",
   "execution_count": 9,
   "id": "157b87e5-7db5-490c-95d2-9c47446f8f29",
   "metadata": {
    "scrolled": true
   },
   "outputs": [
    {
     "name": "stdin",
     "output_type": "stream",
     "text": [
      "Enter the word you want to replace:  India\n",
      "Enter the replacing word:  Bharat\n"
     ]
    },
    {
     "name": "stdout",
     "output_type": "stream",
     "text": [
      "Before Replacement:  India is a diverse country known for its rich culture and history.\n",
      "It is the world's largest democracy and the second-most populous nation.\n",
      "The country is famous for iconic landmarks like the Taj Mahal.\n",
      "India has 28 states and 8 union territories, each with unique traditions.\n",
      "It is the birthplace of major religions like Hinduism, Buddhism, Jainism, and Sikhism.\n",
      "Indian cuisine, known for its spices, is loved across the globe.\n",
      "The nation is a hub for technology and innovation, with a booming IT sector.\n",
      "India is also renowned for its Bollywood film industry.\n",
      "The Indian flag symbolizes courage, peace, and prosperity.\n",
      "From the Himalayas to the Indian Ocean, India offers breathtaking landscapes.\n",
      "\n",
      "After Replacement:  Bharat is a diverse country known for its rich culture and history.\n",
      " It is the world's largest democracy and the second-most populous nation.\n",
      " The country is famous for iconic landmarks like the Taj Mahal.\n",
      " Bharat has 28 states and 8 union territories, each with unique traditions.\n",
      " It is the birthplace of major religions like Hinduism, Buddhism, Jainism, and Sikhism.\n",
      " Indian cuisine, known for its spices, is loved across the globe.\n",
      " The nation is a hub for technology and innovation, with a booming IT sector.\n",
      " Bharat is also renowned for its Bollywood film industry.\n",
      " The Indian flag symbolizes courage, peace, and prosperity.\n",
      " From the Himalayas to the Indian Ocean, Bharat offers breathtaking landscapes.\n",
      "\n"
     ]
    }
   ],
   "source": [
    "f4 = open(\"india.txt\",\"w\")\n",
    "f4.write(\"\"\"India is a diverse country known for its rich culture and history.\n",
    "It is the world's largest democracy and the second-most populous nation.\n",
    "The country is famous for iconic landmarks like the Taj Mahal.\n",
    "India has 28 states and 8 union territories, each with unique traditions.\n",
    "It is the birthplace of major religions like Hinduism, Buddhism, Jainism, and Sikhism.\n",
    "Indian cuisine, known for its spices, is loved across the globe.\n",
    "The nation is a hub for technology and innovation, with a booming IT sector.\n",
    "India is also renowned for its Bollywood film industry.\n",
    "The Indian flag symbolizes courage, peace, and prosperity.\n",
    "From the Himalayas to the Indian Ocean, India offers breathtaking landscapes.\n",
    "\"\"\")\n",
    "f4.close()\n",
    "f4 = open(\"india.txt\",\"r\")\n",
    "content4 = f4.read()\n",
    "full_script = content4.split()\n",
    "w1 = input(\"Enter the word you want to replace: \")\n",
    "w2 = input(\"Enter the replacing word: \")\n",
    "print(\"Before Replacement: \",content4)\n",
    "for i in range(len(full_script)):\n",
    "    if full_script[i] == w1:\n",
    "        full_script[i] = w2\n",
    "new_script = \" \".join(full_script)\n",
    "new_script1 = new_script.replace(\".\",\".\\n\")\n",
    "print(\"After Replacement: \",new_script1)\n",
    "        "
   ]
  },
  {
   "cell_type": "markdown",
   "id": "98d961a0-63ac-4c17-8620-093a13a2ad03",
   "metadata": {},
   "source": [
    "**Count Lines, Words, and Characters**\n",
    "   - Write a program to count the:\n",
    "     - Number of lines\n",
    "     - Number of words\n",
    "     - Number of characters in a file named `data.txt`."
   ]
  },
  {
   "cell_type": "code",
   "execution_count": 17,
   "id": "688112da-d958-4bea-a7a9-947472616514",
   "metadata": {},
   "outputs": [
    {
     "name": "stdout",
     "output_type": "stream",
     "text": [
      "Number of lines in the file:  4\n",
      "Number of words in the file:  12\n",
      "Number of characters in the file:  68\n"
     ]
    }
   ],
   "source": [
    "with open(\"data.txt\",\"w\") as f5:\n",
    "    f5.write(\"\"\"HELLO,\n",
    "HIII EVERYONE.\n",
    "THIS IS PYTHON TUTORIAL\n",
    "AND I AM ARYA BHUSHAN\n",
    "\"\"\")\n",
    "\n",
    "with open(\"data.txt\",\"r\") as f6:\n",
    "    files = f6.readlines()     # Creates a list of lines\n",
    "\n",
    "line_count = len(files)\n",
    "word_count = 0\n",
    "for line in files:\n",
    "    word_count += len(line.split())     # Creates a list of words in the line \n",
    "char_count = 0\n",
    "for line in files:\n",
    "    char_count += len(line)\n",
    "\n",
    "print(\"Number of lines in the file: \",line_count)\n",
    "print(\"Number of words in the file: \",word_count)\n",
    "print(\"Number of characters in the file: \",char_count)\n"
   ]
  },
  {
   "cell_type": "markdown",
   "id": "670f47ed-3873-44b5-8f7f-2cd0a9b62ff3",
   "metadata": {},
   "source": [
    "**Append Content**\n",
    "   - Create a program that appends the current date and time to a file named `log.txt` whenever the program runs."
   ]
  },
  {
   "cell_type": "code",
   "execution_count": 19,
   "id": "27b303a6-5724-4b5a-b2fe-33a845cdc9b2",
   "metadata": {},
   "outputs": [
    {
     "name": "stdout",
     "output_type": "stream",
     "text": [
      "Current Local Time appended in log.txt \n"
     ]
    }
   ],
   "source": [
    "from datetime import datetime\n",
    "current_time = datetime.now().strftime(\"%d-%m-%Y  %H:%M:%S\")\n",
    "\n",
    "with open(\"log.txt\",\"a\") as file_name:\n",
    "    file_name.write(f\"{current_time}\\n\")\n",
    "\n",
    "\n",
    "print(\"Current Local Time appended in log.txt \")"
   ]
  },
  {
   "cell_type": "markdown",
   "id": "aa452c9d-b4a3-4b4a-b881-8c05a52acc7f",
   "metadata": {},
   "source": [
    "**Reverse File Content**\n",
    "   - Write a program to read the content of a file and write its content in reverse order (line by line) into a new file named `reversed.txt`.\n"
   ]
  },
  {
   "cell_type": "code",
   "execution_count": 33,
   "id": "7117f0cd-ada2-402f-8ce3-25491bfcb851",
   "metadata": {},
   "outputs": [
    {
     "name": "stdout",
     "output_type": "stream",
     "text": [
      "File content has been reversed and written to 'reversed.txt'.\n",
      "From the Himalayas to the Indian Ocean, India offers breathtaking landscapes.\n",
      "The Indian flag symbolizes courage, peace, and prosperity.\n",
      "India is also renowned for its Bollywood film industry.\n",
      "The nation is a hub for technology and innovation, with a booming IT sector.\n",
      "Indian cuisine, known for its spices, is loved across the globe.\n",
      "It is the birthplace of major religions like Hinduism, Buddhism, Jainism, and Sikhism.\n",
      "India has 28 states and 8 union territories, each with unique traditions.\n",
      "The country is famous for iconic landmarks like the Taj Mahal.\n",
      "It is the world's largest democracy and the second-most populous nation.\n",
      "India is a diverse country known for its rich culture and history.\n",
      "\n"
     ]
    }
   ],
   "source": [
    "with open(\"india.txt\", \"r\") as input_file:\n",
    "    lines = input_file.readlines()\n",
    "    \n",
    "# Reverse the lines\n",
    "reversed_lines = lines[::-1]\n",
    "\n",
    "# Write the reversed lines to a new file\n",
    "with open(\"reversed.txt\", \"w\") as output_file:\n",
    "    for line in reversed_lines:\n",
    "        output_file.write(line)\n",
    "\n",
    "print(\"File content has been reversed and written to 'reversed.txt'.\")\n",
    "with open(\"reversed.txt\",\"r\") as output_file:\n",
    "     reversed_ = output_file.read()\n",
    "print(reversed_)\n"
   ]
  },
  {
   "cell_type": "markdown",
   "id": "5f4edd8f-7e37-4905-a28e-83e05e5b80f9",
   "metadata": {},
   "source": [
    "**Remove Blank Lines**\n",
    "   - Write a program to remove all blank lines from a file and save the result into a new file."
   ]
  },
  {
   "cell_type": "code",
   "execution_count": 27,
   "id": "81e55f59-77ac-4ce3-9c3a-260cd01ff7da",
   "metadata": {},
   "outputs": [
    {
     "name": "stdout",
     "output_type": "stream",
     "text": [
      "Updated file without blanks: \n",
      "     Hello\n",
      "    World\n",
      "    This is a txt demo file.\n",
      "    Thank You\n",
      "    Regards\n"
     ]
    }
   ],
   "source": [
    "with open(\"blankin_file\",\"w\") as fileb:\n",
    "    fileb.write(\"\"\"\n",
    "    \n",
    "    Hello\n",
    "    World\n",
    "    \n",
    "    This is a txt demo file.\n",
    "    \n",
    "    Thank You\n",
    "    \n",
    "    Regards\"\"\")\n",
    "\n",
    "with open(\"blankin_file\",\"r\") as filein, open(\"blankout_file\",\"w\") as fileout:\n",
    "    infile = filein.readlines()\n",
    "    for file in infile:\n",
    "        if file.strip():\n",
    "            fileout.write(file)\n",
    "\n",
    "with open(\"blankout_file\",\"r\") as fileout:\n",
    "    fo = fileout.read()\n",
    "print(\"Updated file without blanks: \\n\", fo)"
   ]
  },
  {
   "cell_type": "markdown",
   "id": "a296a4f1-2f75-443d-97d4-49fcaf54786a",
   "metadata": {},
   "source": [
    "**Merge Two Files**\n",
    "   - Write a program to merge the content of two files (`file1.txt` and `file2.txt`) into a third file (`merged.txt`).\n"
   ]
  },
  {
   "cell_type": "code",
   "execution_count": 32,
   "id": "d5496340-07b0-4750-86a2-754419eaa239",
   "metadata": {},
   "outputs": [
    {
     "name": "stdout",
     "output_type": "stream",
     "text": [
      "The merged file is: \n",
      " Hello\n",
      "    World\n",
      "    This is a demo txt\n",
      "    Thanks\n",
      "    Regards\n",
      "    \n"
     ]
    }
   ],
   "source": [
    "with open(\"file1.txt\",\"w\") as fi1, open(\"file2.txt\",\"w\") as fi2, open(\"merged.txt\",\"w\"):\n",
    "    fi1.write(\"\"\"Hello\n",
    "    World\n",
    "    This is a demo txt\n",
    "    \"\"\")\n",
    "    fi2.write(\"\"\"Thanks\n",
    "    Regards\n",
    "    \"\"\")\n",
    "\n",
    "with open(\"file1.txt\",\"r\") as fi1, open(\"file2.txt\",\"r\") as fi2, open(\"merged.txt\",\"w\") as fi3:\n",
    "    fim = fi1.read() + fi2.read()\n",
    "    fi3.write(fim)\n",
    "\n",
    "with open(\"merged.txt\",\"r\")as fi3:\n",
    "    merged = fi3.read()\n",
    "\n",
    "print(\"The merged file is: \\n\", merged)\n",
    "    \n"
   ]
  },
  {
   "cell_type": "markdown",
   "id": "3ed2ad61-5434-48bf-a125-fd2c75acd2e4",
   "metadata": {},
   "source": [
    "**Find Longest Word**\n",
    "    - Write a program to find the longest word in a file and display its length along with the word itself.\n"
   ]
  },
  {
   "cell_type": "code",
   "execution_count": 37,
   "id": "f450fd94-b693-45c3-8cda-19da4e865c98",
   "metadata": {},
   "outputs": [
    {
     "name": "stdout",
     "output_type": "stream",
     "text": [
      "The longest word in the file is : territories,\n"
     ]
    }
   ],
   "source": [
    "with open(\"india.txt\",\"r\") as new:\n",
    "    content = new.read().split()\n",
    "maxlen_word = max(content, key = len)\n",
    "print(\"The longest word in the file is :\", maxlen_word)\n",
    "\n",
    "            \n",
    "        "
   ]
  },
  {
   "cell_type": "code",
   "execution_count": null,
   "id": "83ad4349-0648-41b7-8f50-d3dfc26a11b5",
   "metadata": {},
   "outputs": [],
   "source": []
  }
 ],
 "metadata": {
  "kernelspec": {
   "display_name": "Python [conda env:base] *",
   "language": "python",
   "name": "conda-base-py"
  },
  "language_info": {
   "codemirror_mode": {
    "name": "ipython",
    "version": 3
   },
   "file_extension": ".py",
   "mimetype": "text/x-python",
   "name": "python",
   "nbconvert_exporter": "python",
   "pygments_lexer": "ipython3",
   "version": "3.12.7"
  }
 },
 "nbformat": 4,
 "nbformat_minor": 5
}
