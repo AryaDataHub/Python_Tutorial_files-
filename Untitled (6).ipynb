{
 "cells": [
  {
   "cell_type": "markdown",
   "id": "e20f4372-a50f-40dd-8c06-01b01b7284b7",
   "metadata": {},
   "source": [
    "![python logo](https://1000logos.net/wp-content/uploads/2020/08/Python-Logo-640x400.png)"
   ]
  },
  {
   "cell_type": "markdown",
   "id": "cdcade5d-b4e0-4f3d-829d-97ece08444e1",
   "metadata": {},
   "source": [
    "# ***Practice Questions***\n",
    "## ***If-Else Questions + Exception Handling***\n",
    "- by Arya Bhushan"
   ]
  },
  {
   "cell_type": "markdown",
   "id": "b676e8db-efc1-420f-82e9-c0296684b675",
   "metadata": {},
   "source": [
    "### **1. Odd or even**\n",
    "#### **Write a program to check if a number entered by the user is odd or even.**"
   ]
  },
  {
   "cell_type": "code",
   "execution_count": 3,
   "id": "cd200ee2-c1ab-4666-89f4-f44f65315321",
   "metadata": {},
   "outputs": [
    {
     "name": "stdin",
     "output_type": "stream",
     "text": [
      "Enter your number:  kk\n"
     ]
    },
    {
     "name": "stdout",
     "output_type": "stream",
     "text": [
      "Enter a valid number\n"
     ]
    }
   ],
   "source": [
    "try:\n",
    "    num1 = int(input(\"Enter your number: \"))\n",
    "    if num1 % 2 == 0:\n",
    "        print(\"The Number you entered is a Even Number\")\n",
    "    else:\n",
    "        print(\"The Number you entered is a Odd Number\")\n",
    "except ValueError:\n",
    "    print(\"Enter a valid number\")"
   ]
  },
  {
   "cell_type": "markdown",
   "id": "c61783b0-70ae-4856-bc1e-58fb8e084e2a",
   "metadata": {},
   "source": [
    "### **2. Check Positivity**\n",
    "##### **Write a program to determine if a given number is positive, negative, or zero.**"
   ]
  },
  {
   "cell_type": "code",
   "execution_count": 5,
   "id": "a5574be6-81e4-41ff-8881-cc269aaf6186",
   "metadata": {},
   "outputs": [
    {
     "name": "stdin",
     "output_type": "stream",
     "text": [
      "Enter Your Number:  0\n"
     ]
    },
    {
     "name": "stdout",
     "output_type": "stream",
     "text": [
      "The Number you entered is Zero\n"
     ]
    }
   ],
   "source": [
    "try:\n",
    "    num2 = int(input(\"Enter Your Number: \"))\n",
    "    if num2 > 0:\n",
    "        print(\"The Number you entered is Positive\")\n",
    "    elif num2 < 0:\n",
    "        print(\"The Number you entered is Negative\")\n",
    "    else:\n",
    "        print(\"The Number you entered is Zero\") \n",
    "except ValueError:\n",
    "    print(\"Enter a valid number\")"
   ]
  },
  {
   "cell_type": "markdown",
   "id": "03012c17-6129-4302-9e84-e0a997e5f553",
   "metadata": {},
   "source": [
    "### **3. Grade Checker**\n",
    "##### **Write a program to check if a student’s marks (out of 100) fall under these categories:**\n",
    "- Marks >= 90: A\n",
    "- Marks >= 75: B\n",
    "- Marks >= 50: C\n",
    "- Marks < 50: Fail"
   ]
  },
  {
   "cell_type": "code",
   "execution_count": 9,
   "id": "4c0ff64c-58e5-4399-8157-7692ba6dbd7e",
   "metadata": {},
   "outputs": [
    {
     "name": "stdin",
     "output_type": "stream",
     "text": [
      "Enter your marks:  49\n"
     ]
    },
    {
     "name": "stdout",
     "output_type": "stream",
     "text": [
      "Fail\n"
     ]
    }
   ],
   "source": [
    "try:\n",
    "    num3 = int(input(\"Enter your marks: \"))\n",
    "    if 0 <= num3 <=100:\n",
    "        if num3 >= 90 and num3 <= 100:\n",
    "            print(\"Grade: A\")\n",
    "        elif num3 >= 75:\n",
    "            print(\"Grade: B\")\n",
    "        elif num3 >= 50:\n",
    "            print(\"Grade: C\")\n",
    "        else:\n",
    "            print(\"Fail\")\n",
    "    else:\n",
    "        print(\"Enter a valid number between 0 to 100\")\n",
    "except ValueError:\n",
    "    print(\"Enter valid marks.\")"
   ]
  },
  {
   "cell_type": "markdown",
   "id": "8d61325e-16d8-40a3-92c1-ae819c4002d8",
   "metadata": {},
   "source": [
    "### **4. Vowel or Consonant**\n",
    "##### **Write a program to check if a given character is a vowel (a, e, i, o, u) or a consonant.**"
   ]
  },
  {
   "cell_type": "code",
   "execution_count": 11,
   "id": "2a763c68-be9e-4b3b-b013-217e46cde5aa",
   "metadata": {},
   "outputs": [
    {
     "name": "stdin",
     "output_type": "stream",
     "text": [
      "Enter a character to check:  h\n"
     ]
    },
    {
     "name": "stdout",
     "output_type": "stream",
     "text": [
      "You entered a constant\n"
     ]
    }
   ],
   "source": [
    "char = input(\"Enter a character to check: \").lower()\n",
    "vowel = ['a','e','i','o','u']\n",
    "if len(char) == 1 and char.isalpha():\n",
    "    if char in vowel:\n",
    "        print(\"You entered a consonant\")\n",
    "    else:\n",
    "        print(\"You entered a constant\")\n",
    "else:\n",
    "    print(\"Enter a valid single character\")            "
   ]
  },
  {
   "cell_type": "markdown",
   "id": "0538944c-25c6-451a-a500-ee0faf8c3965",
   "metadata": {},
   "source": [
    "### **5. Leap Year**\n",
    "##### **Write a program to check if a given year is a leap year or not.**\n",
    "###### (Hint: A leap year is divisible by 4, but not divisible by 100 unless also divisible by 400.)"
   ]
  },
  {
   "cell_type": "code",
   "execution_count": 13,
   "id": "9d4650f0-f40d-4b4c-883e-e71ab62964da",
   "metadata": {},
   "outputs": [
    {
     "name": "stdin",
     "output_type": "stream",
     "text": [
      "Enter the Year to check if it a leap year or not:  1900\n"
     ]
    },
    {
     "name": "stdout",
     "output_type": "stream",
     "text": [
      "1900 is not a leap year\n"
     ]
    }
   ],
   "source": [
    "try:\n",
    "    year = int(input(\"Enter the Year to check if it a leap year or not: \"))\n",
    "    if ( year % 4 ==0 and year % 100 != 0) or (year % 400 == 0):\n",
    "        print(f\"{year} is a leap year\")\n",
    "    else:\n",
    "        print(f\"{year} is not a leap year\")\n",
    "except ValueError:\n",
    "    print(\"Enter a valid year\")"
   ]
  },
  {
   "cell_type": "markdown",
   "id": "bfa897fa-59b2-4b8b-834c-d562550136a9",
   "metadata": {},
   "source": [
    "### **6. Largest of Three Numbers**\n",
    "##### **Write a program to find the largest among three numbers entered by the user.**"
   ]
  },
  {
   "cell_type": "code",
   "execution_count": 15,
   "id": "c56277a7-56af-49bf-b470-4a2dfedd5396",
   "metadata": {},
   "outputs": [
    {
     "name": "stdin",
     "output_type": "stream",
     "text": [
      "enter No. 1:  59\n",
      "enter No. 2:  89\n",
      "enter No. 3:  56\n"
     ]
    },
    {
     "name": "stdout",
     "output_type": "stream",
     "text": [
      "89 is the largest number\n"
     ]
    }
   ],
   "source": [
    "try:\n",
    "    a = int(input(\"enter No. 1: \"))\n",
    "    b = int(input(\"enter No. 2: \"))\n",
    "    c = int(input(\"enter No. 3: \"))\n",
    "    if a == b == c:\n",
    "        print(\"All numbers are equal\")\n",
    "    elif a>=b and a>=c:\n",
    "        print(f'{a} is the largest number')\n",
    "    elif b>=a and b>=c:\n",
    "        print(f'{b} is the largest number')\n",
    "    else:\n",
    "        print(f'{c} is the largest number')\n",
    "except ValueError:\n",
    "    print(\"Enter a valid number\")"
   ]
  },
  {
   "cell_type": "markdown",
   "id": "97f24b97-b519-4ffd-809e-e5e0a98cd549",
   "metadata": {},
   "source": [
    "### **7. Simple Calculator**\n",
    "##### **Write a program that takes two numbers and an operator (+, -, \\*, /) as input and performs the operation using if-elif-else.**"
   ]
  },
  {
   "cell_type": "code",
   "execution_count": 17,
   "id": "3568a0c6-6a7a-4143-8b20-d1d7da3238ad",
   "metadata": {},
   "outputs": [
    {
     "name": "stdin",
     "output_type": "stream",
     "text": [
      "Enter the 1st number:  8\n",
      "Enter the 2nd number:  0\n",
      "Select the operation(as 1, 2, 3, 4):\n",
      " 1. Addition + \n",
      " 2. Subtraction - \n",
      " 3. Multiplication * \n",
      " 4. Division / 4\n"
     ]
    },
    {
     "name": "stdout",
     "output_type": "stream",
     "text": [
      "Division by zero is undefined\n"
     ]
    }
   ],
   "source": [
    "try:\n",
    "    x = float(input(\"Enter the 1st number: \"))\n",
    "    y = float(input(\"Enter the 2nd number: \"))\n",
    "    ops = int(input(\"Select the operation(as 1, 2, 3, 4):\\n 1. Addition + \\n 2. Subtraction - \\n 3. Multiplication * \\n 4. Division /\"))\n",
    "    if 1 <= ops <= 4:\n",
    "        if ops == 1:\n",
    "            print(f\"The addition of {x} and {y} is {x + y}\")\n",
    "        elif ops == 2:\n",
    "            print(f\"The subtraction of {x} and {y} is {x - y}\")\n",
    "        elif ops == 3:\n",
    "            print(f\"The multiplication of {x} and {y} is {x * y}\")\n",
    "        else:\n",
    "            print(f\"The division of {x} and {y} is {x / y}\")\n",
    "    else:\n",
    "        print(\"Please select the correct option\")\n",
    "except ZeroDivisionError:\n",
    "    print(\"Division by zero is undefined\")\n",
    "except ValueError:\n",
    "    print(\"Enter a valid number\")\n"
   ]
  },
  {
   "cell_type": "markdown",
   "id": "ba607fa2-5388-44b2-a496-6e8a32f268e7",
   "metadata": {},
   "source": [
    "### **8. Check Age Eligibility**\n",
    "##### **Write a program to check if a person is eligible to vote (age >= 18) and if eligible, also check if they are a senior citizen (age >= 60).**"
   ]
  },
  {
   "cell_type": "code",
   "execution_count": 19,
   "id": "890030ae-19df-4a36-9086-df6059d49836",
   "metadata": {},
   "outputs": [
    {
     "name": "stdin",
     "output_type": "stream",
     "text": [
      "Enter the age (must be a positive number):  68\n"
     ]
    },
    {
     "name": "stdout",
     "output_type": "stream",
     "text": [
      "The person is eligible to vote.\n",
      "The person is also a senior citizen.\n"
     ]
    }
   ],
   "source": [
    "try:\n",
    "    age = int(input(\"Enter the age (must be a positive number): \"))\n",
    "    if age < 0:\n",
    "        print(\"Age cannot be negative. Please enter a valid age.\")\n",
    "    elif age >= 18:\n",
    "        print(\"The person is eligible to vote.\")\n",
    "        if age >= 60:\n",
    "            print(\"The person is also a senior citizen.\")\n",
    "    else:\n",
    "        print(\"You are not eligible to vote.\")\n",
    "except ValueError:\n",
    "    print(\"Please enter a valid age (a positive integer).\")\n"
   ]
  },
  {
   "cell_type": "markdown",
   "id": "a1151aff-1807-44ee-a100-0a0d59ab8476",
   "metadata": {},
   "source": [
    "### **9. Number Category**\n",
    "##### **Write a program that checks whether a number is:**\n",
    "\n",
    "- Divisible by 3 and 5\n",
    "- Divisible by 3 only\n",
    "- Divisible by 5 only\n",
    "- Not divisible by either.\n"
   ]
  },
  {
   "cell_type": "code",
   "execution_count": 21,
   "id": "6925ed38-5396-47f8-a55b-0ed7892fcf7c",
   "metadata": {},
   "outputs": [
    {
     "name": "stdin",
     "output_type": "stream",
     "text": [
      "Enter any Integer:  9975\n"
     ]
    },
    {
     "name": "stdout",
     "output_type": "stream",
     "text": [
      "The number 9975 is divisible by 3 and 5\n"
     ]
    }
   ],
   "source": [
    "try:\n",
    "    numb = int(input(\"Enter any Integer: \"))\n",
    "    if numb % 3 == 0 and numb % 5 == 0:\n",
    "        print(f'The number {numb} is divisible by 3 and 5')\n",
    "    elif numb % 3 == 0:\n",
    "        print(f'The number {numb} is divisible by 3 only')\n",
    "    elif numb % 5 == 0:\n",
    "        print(f'The number {numb} is divisible by 5 only')\n",
    "    else:\n",
    "        print(f'The number {numb} is neither divisible by 3 nor 5')\n",
    "except ValueError:\n",
    "    print(\"Enter a valid integer\")"
   ]
  },
  {
   "cell_type": "markdown",
   "id": "ad1c7107-ea3e-419a-a5aa-054dfe7e91d6",
   "metadata": {},
   "source": [
    "### **10. Triangle Type**\n",
    "##### **Write a program to determine the type of triangle based on its sides:**\n",
    "\n",
    "- Equilateral: All sides are equal.\n",
    "- Isosceles: Any two sides are equal.\n",
    "- Scalene: All sides are different.\n",
    "**(Hint: Use conditions like a == b and b == c.)**"
   ]
  },
  {
   "cell_type": "code",
   "execution_count": 23,
   "id": "e258f9ce-6946-4173-8dbe-06ea0f7830ec",
   "metadata": {},
   "outputs": [
    {
     "name": "stdin",
     "output_type": "stream",
     "text": [
      "Enter side 1:  78\n",
      "Enter side 2:  7\n",
      "Enter side 3:  29\n"
     ]
    },
    {
     "name": "stdout",
     "output_type": "stream",
     "text": [
      "The given sides do not form a valid triangle.\n"
     ]
    }
   ],
   "source": [
    "try:\n",
    "    a = float(input(\"Enter side 1: \"))\n",
    "    b = float(input(\"Enter side 2: \"))\n",
    "    c = float(input(\"Enter side 3: \"))\n",
    "    if a > 0 and b > 0 and c > 0:\n",
    "        if a + b > c and b + c > a and a + c > b:\n",
    "            if a == b == c:\n",
    "                print(\"The given sides form an Equilateral Triangle.\")\n",
    "            elif a == b or b == c or c == a:\n",
    "                print(\"The given sides form an Isosceles Triangle.\")\n",
    "            else:\n",
    "                print(\"The given sides form a Scalene Triangle.\")\n",
    "        else:\n",
    "            print(\"The given sides do not form a valid triangle.\")\n",
    "    else:\n",
    "        print(\"Sides of the triangles can't be zero or negative\")\n",
    "except ValueError:\n",
    "    print(\"Invalid input. Please enter numeric values for the sides.\")"
   ]
  },
  {
   "cell_type": "markdown",
   "id": "d88a9d85-27b3-4b41-99f8-01f06d91afde",
   "metadata": {},
   "source": [
    "\n",
    "\n"
   ]
  },
  {
   "cell_type": "code",
   "execution_count": null,
   "id": "0d5fded3-4421-40c7-acc0-4e4a9a01d66b",
   "metadata": {},
   "outputs": [],
   "source": []
  }
 ],
 "metadata": {
  "kernelspec": {
   "display_name": "Python [conda env:base] *",
   "language": "python",
   "name": "conda-base-py"
  },
  "language_info": {
   "codemirror_mode": {
    "name": "ipython",
    "version": 3
   },
   "file_extension": ".py",
   "mimetype": "text/x-python",
   "name": "python",
   "nbconvert_exporter": "python",
   "pygments_lexer": "ipython3",
   "version": "3.12.7"
  }
 },
 "nbformat": 4,
 "nbformat_minor": 5
}
